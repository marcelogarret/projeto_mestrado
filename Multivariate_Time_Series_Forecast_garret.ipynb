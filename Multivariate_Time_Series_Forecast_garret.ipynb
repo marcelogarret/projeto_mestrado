{
  "cells": [
    {
      "cell_type": "markdown",
      "metadata": {
        "id": "view-in-github",
        "colab_type": "text"
      },
      "source": [
        "<a href=\"https://colab.research.google.com/github/marcelogarret/projeto_mestrado/blob/main/Multivariate_Time_Series_Forecast_garret.ipynb\" target=\"_parent\"><img src=\"https://colab.research.google.com/assets/colab-badge.svg\" alt=\"Open In Colab\"/></a>"
      ]
    },
    {
      "cell_type": "markdown",
      "source": [
        "#DATA PREPARATION"
      ],
      "metadata": {
        "id": "i1mozvPhy7TP"
      }
    },
    {
      "cell_type": "code",
      "execution_count": 17,
      "metadata": {
        "colab": {
          "base_uri": "https://localhost:8080/"
        },
        "id": "YSvTJmSjtG8y",
        "outputId": "9c939b28-b555-41e8-c6b0-191b33d8b5ee"
      },
      "outputs": [
        {
          "output_type": "stream",
          "name": "stdout",
          "text": [
            "[[ 10  15  25]\n",
            " [ 20  25  45]\n",
            " [ 30  35  65]\n",
            " [ 40  45  85]\n",
            " [ 50  55 105]\n",
            " [ 60  65 125]\n",
            " [ 70  75 145]\n",
            " [ 80  85 165]\n",
            " [ 90  95 185]]\n"
          ]
        }
      ],
      "source": [
        "# multivariate data preparation\n",
        "from numpy import array\n",
        "from numpy import hstack\n",
        "# define input sequence\n",
        "in_seq1 = array([10, 20, 30, 40, 50, 60, 70, 80, 90])\n",
        "in_seq2 = array([15, 25, 35, 45, 55, 65, 75, 85, 95])\n",
        "out_seq = array([in_seq1[i]+in_seq2[i] for i in range(len(in_seq1))])\n",
        "# convert to [rows, columns] structure\n",
        "in_seq1 = in_seq1.reshape((len(in_seq1), 1))\n",
        "in_seq2 = in_seq2.reshape((len(in_seq2), 1))\n",
        "out_seq = out_seq.reshape((len(out_seq), 1))\n",
        "# horizontally stack columns\n",
        "dataset = hstack((in_seq1, in_seq2, out_seq))\n",
        "print(dataset)"
      ]
    },
    {
      "cell_type": "code",
      "execution_count": 18,
      "metadata": {
        "id": "l7Q0zdGKtND-"
      },
      "outputs": [],
      "source": [
        "# split a multivariate sequence into samples\n",
        "def split_sequences(sequences, n_steps):\n",
        "  X, y = list(), list()\n",
        "  for i in range(len(sequences)):\n",
        "    # find the end of this pattern\n",
        "    end_ix = i + n_steps\n",
        "    # check if we are beyond the dataset\n",
        "    if end_ix > len(sequences):\n",
        "      break\n",
        "    # gather input and output parts of the pattern\n",
        "    seq_x, seq_y = sequences[i:end_ix, :-1], sequences[end_ix-1, -1]\n",
        "    X.append(seq_x)\n",
        "    y.append(seq_y)\n",
        "  return array(X), array(y)"
      ]
    },
    {
      "cell_type": "code",
      "execution_count": 19,
      "metadata": {
        "colab": {
          "base_uri": "https://localhost:8080/"
        },
        "id": "Qhldjqw_tpeo",
        "outputId": "9b97a59c-23ce-432e-d48e-3472afd18d11"
      },
      "outputs": [
        {
          "output_type": "stream",
          "name": "stdout",
          "text": [
            "(7, 3, 2) (7,)\n"
          ]
        }
      ],
      "source": [
        "# choose a number of time steps\n",
        "n_steps = 3\n",
        "# convert into input/output\n",
        "X, y = split_sequences(dataset, n_steps)\n",
        "print(X.shape, y.shape)"
      ]
    },
    {
      "cell_type": "code",
      "execution_count": 20,
      "metadata": {
        "colab": {
          "base_uri": "https://localhost:8080/"
        },
        "id": "a_6338jFuEjk",
        "outputId": "8e133a30-af1e-4ea4-89c9-451e757eb66a"
      },
      "outputs": [
        {
          "output_type": "stream",
          "name": "stdout",
          "text": [
            "[[10 15]\n",
            " [20 25]\n",
            " [30 35]] 65\n",
            "[[20 25]\n",
            " [30 35]\n",
            " [40 45]] 85\n",
            "[[30 35]\n",
            " [40 45]\n",
            " [50 55]] 105\n",
            "[[40 45]\n",
            " [50 55]\n",
            " [60 65]] 125\n",
            "[[50 55]\n",
            " [60 65]\n",
            " [70 75]] 145\n",
            "[[60 65]\n",
            " [70 75]\n",
            " [80 85]] 165\n",
            "[[70 75]\n",
            " [80 85]\n",
            " [90 95]] 185\n"
          ]
        }
      ],
      "source": [
        "# summarize the data\n",
        "for i in range(len(X)):\n",
        "  print(X[i], y[i])"
      ]
    },
    {
      "cell_type": "markdown",
      "source": [
        "#MLP"
      ],
      "metadata": {
        "id": "D00IMdna4CJ5"
      }
    },
    {
      "cell_type": "code",
      "execution_count": 21,
      "metadata": {
        "colab": {
          "base_uri": "https://localhost:8080/"
        },
        "id": "dW2z-zqjuKOg",
        "outputId": "afd05613-5b0b-427a-a43c-dbc72e3057d7"
      },
      "outputs": [
        {
          "output_type": "stream",
          "name": "stdout",
          "text": [
            "[10 15 20 25 30 35] 65\n",
            "[20 25 30 35 40 45] 85\n",
            "[30 35 40 45 50 55] 105\n",
            "[40 45 50 55 60 65] 125\n",
            "[50 55 60 65 70 75] 145\n",
            "[60 65 70 75 80 85] 165\n",
            "[70 75 80 85 90 95] 185\n"
          ]
        }
      ],
      "source": [
        "# flatten input\n",
        "n_input = X.shape[1] * X.shape[2]\n",
        "X_mlp = X.reshape((X.shape[0], n_input))\n",
        "\n",
        "# summarize the reshaped data\n",
        "for i in range(len(X)):\n",
        "  print(X_mlp[i], y[i])"
      ]
    },
    {
      "cell_type": "code",
      "execution_count": 22,
      "metadata": {
        "id": "4ro-TMw0udQj"
      },
      "outputs": [],
      "source": [
        "import keras\n",
        "from keras.models import Sequential\n",
        "from keras.layers import Dense\n",
        "from keras import Input\n",
        "\n",
        "# define MLP model\n",
        "model_mlp = Sequential()\n",
        "model_mlp.add(Input(shape=(n_input,)))\n",
        "model_mlp.add(Dense(100, activation='relu'))\n",
        "model_mlp.add(Dense(1))\n",
        "model_mlp.compile(optimizer='adam', loss='mse')"
      ]
    },
    {
      "cell_type": "code",
      "execution_count": 23,
      "metadata": {
        "colab": {
          "base_uri": "https://localhost:8080/"
        },
        "id": "JdirBj98u6ub",
        "outputId": "dafe7aaf-4628-4ae7-8a7e-f5c3c57875e0"
      },
      "outputs": [
        {
          "output_type": "execute_result",
          "data": {
            "text/plain": [
              "<keras.src.callbacks.history.History at 0x7ab2fa41ce80>"
            ]
          },
          "metadata": {},
          "execution_count": 23
        }
      ],
      "source": [
        "# fit model\n",
        "model_mlp.fit(X_mlp, y, epochs=3000, verbose=0)"
      ]
    },
    {
      "cell_type": "code",
      "execution_count": 24,
      "metadata": {
        "colab": {
          "base_uri": "https://localhost:8080/"
        },
        "id": "7XGBNwp5wUAC",
        "outputId": "a4b18bd3-0d81-46ab-8173-d61ffd1429ba"
      },
      "outputs": [
        {
          "output_type": "stream",
          "name": "stdout",
          "text": [
            "[[205.06137]]\n"
          ]
        }
      ],
      "source": [
        "# demonstrate prediction\n",
        "x_input = array([[80, 85], [90, 95], [100, 105]])\n",
        "x_input = x_input.reshape((1, n_input))\n",
        "yhat_mlp = model_mlp.predict(x_input, verbose=0)\n",
        "print(yhat_mlp)"
      ]
    },
    {
      "cell_type": "markdown",
      "source": [
        "# 1D CNN"
      ],
      "metadata": {
        "id": "cCoNdklyzD6k"
      }
    },
    {
      "cell_type": "code",
      "source": [
        "n_features = X.shape[2]"
      ],
      "metadata": {
        "id": "06-6AuSJ1Ty3"
      },
      "execution_count": 25,
      "outputs": []
    },
    {
      "cell_type": "code",
      "source": [
        "from keras.layers import Flatten, Conv1D, MaxPooling1D\n",
        "\n",
        "# define 1D CNN model\n",
        "model_1dcnn = Sequential()\n",
        "model_1dcnn.add(Input(shape=(n_steps, n_features)))\n",
        "model_1dcnn.add(Conv1D(64, 2, activation='relu'))\n",
        "model_1dcnn.add(MaxPooling1D())\n",
        "model_1dcnn.add(Flatten())\n",
        "model_1dcnn.add(Dense(50, activation='relu'))\n",
        "model_1dcnn.add(Dense(1))\n",
        "model_1dcnn.compile(optimizer='adam', loss='mse')"
      ],
      "metadata": {
        "id": "fSFT3H4ozE16"
      },
      "execution_count": 26,
      "outputs": []
    },
    {
      "cell_type": "code",
      "source": [
        "# fit model\n",
        "model_1dcnn.fit(X, y, epochs=2000, verbose=0)"
      ],
      "metadata": {
        "colab": {
          "base_uri": "https://localhost:8080/"
        },
        "id": "InsuP5It0J0G",
        "outputId": "8a4612b0-5068-45c9-94ef-d845d0fdb73f"
      },
      "execution_count": 27,
      "outputs": [
        {
          "output_type": "execute_result",
          "data": {
            "text/plain": [
              "<keras.src.callbacks.history.History at 0x7ab2fa206d70>"
            ]
          },
          "metadata": {},
          "execution_count": 27
        }
      ]
    },
    {
      "cell_type": "code",
      "source": [
        "# demonstrate prediction\n",
        "x_input = array([[80, 85], [90, 95], [100, 105]])\n",
        "x_input = x_input.reshape((1, n_steps, n_features))\n",
        "yhat_1dcnn = model_1dcnn.predict(x_input, verbose=0)\n",
        "print(yhat_1dcnn)"
      ],
      "metadata": {
        "colab": {
          "base_uri": "https://localhost:8080/"
        },
        "id": "4YpS9JRo1npQ",
        "outputId": "72353604-25b1-42fe-ae2c-6b4bfb148934"
      },
      "execution_count": 28,
      "outputs": [
        {
          "output_type": "stream",
          "name": "stderr",
          "text": [
            "WARNING:tensorflow:5 out of the last 5 calls to <function TensorFlowTrainer.make_predict_function.<locals>.one_step_on_data_distributed at 0x7ab2fa1ef9a0> triggered tf.function retracing. Tracing is expensive and the excessive number of tracings could be due to (1) creating @tf.function repeatedly in a loop, (2) passing tensors with different shapes, (3) passing Python objects instead of tensors. For (1), please define your @tf.function outside of the loop. For (2), @tf.function has reduce_retracing=True option that can avoid unnecessary retracing. For (3), please refer to https://www.tensorflow.org/guide/function#controlling_retracing and https://www.tensorflow.org/api_docs/python/tf/function for  more details.\n"
          ]
        },
        {
          "output_type": "stream",
          "name": "stdout",
          "text": [
            "[[206.10376]]\n"
          ]
        }
      ]
    },
    {
      "cell_type": "markdown",
      "source": [
        "#LSTM"
      ],
      "metadata": {
        "id": "EwteRH9n2wbc"
      }
    },
    {
      "cell_type": "code",
      "source": [
        "from keras.layers import LSTM\n",
        "\n",
        "# define LSTM model\n",
        "model_lstm = Sequential()\n",
        "model_lstm.add(Input(shape=(n_steps, n_features)))\n",
        "model_lstm.add(LSTM(50, activation='relu'))\n",
        "model_lstm.add(Dense(1))\n",
        "model_lstm.compile(optimizer='adam', loss='mse')"
      ],
      "metadata": {
        "id": "aQSWN5_O2xR8"
      },
      "execution_count": 29,
      "outputs": []
    },
    {
      "cell_type": "code",
      "source": [
        "# fit model\n",
        "model_lstm.fit(X, y, epochs=2000, verbose=0)"
      ],
      "metadata": {
        "colab": {
          "base_uri": "https://localhost:8080/"
        },
        "id": "huskJZ_V283v",
        "outputId": "707153b8-4b50-4cf4-929e-562ccd895bc2"
      },
      "execution_count": 30,
      "outputs": [
        {
          "output_type": "execute_result",
          "data": {
            "text/plain": [
              "<keras.src.callbacks.history.History at 0x7ab2fa03e560>"
            ]
          },
          "metadata": {},
          "execution_count": 30
        }
      ]
    },
    {
      "cell_type": "code",
      "source": [
        "# demonstrate prediction\n",
        "x_input = array([[80, 85], [90, 95], [100, 105]])\n",
        "x_input = x_input.reshape((1, n_steps, n_features))\n",
        "yhat_lstm = model_lstm.predict(x_input, verbose=0)\n",
        "print(yhat_lstm)"
      ],
      "metadata": {
        "colab": {
          "base_uri": "https://localhost:8080/"
        },
        "id": "GDSe1yan2-j_",
        "outputId": "663054d3-5aa3-4b91-ed9a-e55c971f1396"
      },
      "execution_count": 31,
      "outputs": [
        {
          "output_type": "stream",
          "name": "stderr",
          "text": [
            "WARNING:tensorflow:6 out of the last 6 calls to <function TensorFlowTrainer.make_predict_function.<locals>.one_step_on_data_distributed at 0x7ab2f9e9a320> triggered tf.function retracing. Tracing is expensive and the excessive number of tracings could be due to (1) creating @tf.function repeatedly in a loop, (2) passing tensors with different shapes, (3) passing Python objects instead of tensors. For (1), please define your @tf.function outside of the loop. For (2), @tf.function has reduce_retracing=True option that can avoid unnecessary retracing. For (3), please refer to https://www.tensorflow.org/guide/function#controlling_retracing and https://www.tensorflow.org/api_docs/python/tf/function for  more details.\n"
          ]
        },
        {
          "output_type": "stream",
          "name": "stdout",
          "text": [
            "[[205.48958]]\n"
          ]
        }
      ]
    },
    {
      "cell_type": "markdown",
      "source": [
        "# RESULTS"
      ],
      "metadata": {
        "id": "s0tW2PhJ3rY3"
      }
    },
    {
      "cell_type": "code",
      "source": [
        "print(\"MPL: \" + f'{yhat_mlp[0][0]:0.2f}')\n",
        "print(\"1D CNN: \" + f'{yhat_1dcnn[0][0]:0.2f}')\n",
        "print(\"LSTM: \" + f'{yhat_lstm[0][0]:0.2f}')"
      ],
      "metadata": {
        "colab": {
          "base_uri": "https://localhost:8080/"
        },
        "id": "jcJvL3i53tIl",
        "outputId": "bc545e4d-4c5a-4226-e902-54842417ca9c"
      },
      "execution_count": 32,
      "outputs": [
        {
          "output_type": "stream",
          "name": "stdout",
          "text": [
            "MPL: 205.06\n",
            "1D CNN: 206.10\n",
            "LSTM: 205.49\n"
          ]
        }
      ]
    }
  ],
  "metadata": {
    "colab": {
      "provenance": [],
      "toc_visible": true,
      "authorship_tag": "ABX9TyMfPFzNKqPMX5GnWj15xRfb",
      "include_colab_link": true
    },
    "kernelspec": {
      "display_name": "Python 3",
      "name": "python3"
    },
    "language_info": {
      "name": "python"
    }
  },
  "nbformat": 4,
  "nbformat_minor": 0
}